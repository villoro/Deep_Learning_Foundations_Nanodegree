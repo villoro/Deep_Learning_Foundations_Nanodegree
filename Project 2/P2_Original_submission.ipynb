{
 "cells": [
  {
   "cell_type": "markdown",
   "metadata": {
    "collapsed": true
   },
   "source": [
    "# Image Classification\n",
    "In this project, you'll classify images from the [CIFAR-10 dataset](https://www.cs.toronto.edu/~kriz/cifar.html).  The dataset consists of airplanes, dogs, cats, and other objects. You'll preprocess the images, then train a convolutional neural network on all the samples. The images need to be normalized and the labels need to be one-hot encoded.  You'll get to apply what you learned and build a convolutional, max pooling, dropout, and fully connected layers.  At the end, you'll get to see your neural network's predictions on the sample images.\n",
    "## Get the Data\n",
    "Run the following cell to download the [CIFAR-10 dataset for python](https://www.cs.toronto.edu/~kriz/cifar-10-python.tar.gz)."
   ]
  },
  {
   "cell_type": "code",
   "execution_count": 1,
   "metadata": {},
   "outputs": [
    {
     "name": "stdout",
     "output_type": "stream",
     "text": [
      "All files found!\n"
     ]
    }
   ],
   "source": [
    "\"\"\"\n",
    "DON'T MODIFY ANYTHING IN THIS CELL THAT IS BELOW THIS LINE\n",
    "\"\"\"\n",
    "from urllib.request import urlretrieve\n",
    "from os.path import isfile, isdir\n",
    "from tqdm import tqdm\n",
    "import problem_unittests as tests\n",
    "import tarfile\n",
    "\n",
    "cifar10_dataset_folder_path = 'cifar-10-batches-py'\n",
    "\n",
    "class DLProgress(tqdm):\n",
    "    last_block = 0\n",
    "\n",
    "    def hook(self, block_num=1, block_size=1, total_size=None):\n",
    "        self.total = total_size\n",
    "        self.update((block_num - self.last_block) * block_size)\n",
    "        self.last_block = block_num\n",
    "\n",
    "if not isfile('cifar-10-python.tar.gz'):\n",
    "    with DLProgress(unit='B', unit_scale=True, miniters=1, desc='CIFAR-10 Dataset') as pbar:\n",
    "        urlretrieve(\n",
    "            'https://www.cs.toronto.edu/~kriz/cifar-10-python.tar.gz',\n",
    "            'cifar-10-python.tar.gz',\n",
    "            pbar.hook)\n",
    "\n",
    "if not isdir(cifar10_dataset_folder_path):\n",
    "    with tarfile.open('cifar-10-python.tar.gz') as tar:\n",
    "        tar.extractall()\n",
    "        tar.close()\n",
    "\n",
    "\n",
    "tests.test_folder_path(cifar10_dataset_folder_path)"
   ]
  },
  {
   "cell_type": "markdown",
   "metadata": {},
   "source": [
    "## Explore the Data\n",
    "The dataset is broken into batches to prevent your machine from running out of memory.  The CIFAR-10 dataset consists of 5 batches, named `data_batch_1`, `data_batch_2`, etc.. Each batch contains the labels and images that are one of the following:\n",
    "* airplane\n",
    "* automobile\n",
    "* bird\n",
    "* cat\n",
    "* deer\n",
    "* dog\n",
    "* frog\n",
    "* horse\n",
    "* ship\n",
    "* truck\n",
    "\n",
    "Understanding a dataset is part of making predictions on the data.  Play around with the code cell below by changing the `batch_id` and `sample_id`. The `batch_id` is the id for a batch (1-5). The `sample_id` is the id for a image and label pair in the batch.\n",
    "\n",
    "Ask yourself \"What are all possible labels?\", \"What is the range of values for the image data?\", \"Are the labels in order or random?\".  Answers to questions like these will help you preprocess the data and end up with better predictions."
   ]
  },
  {
   "cell_type": "code",
   "execution_count": 2,
   "metadata": {},
   "outputs": [
    {
     "name": "stdout",
     "output_type": "stream",
     "text": [
      "\n",
      "Stats of batch 1:\n",
      "Samples: 10000\n",
      "Label Counts: {0: 1005, 1: 974, 2: 1032, 3: 1016, 4: 999, 5: 937, 6: 1030, 7: 1001, 8: 1025, 9: 981}\n",
      "First 20 Labels: [6, 9, 9, 4, 1, 1, 2, 7, 8, 3, 4, 7, 7, 2, 9, 9, 9, 3, 2, 6]\n",
      "\n",
      "Example of Image 5:\n",
      "Image - Min Value: 0 Max Value: 252\n",
      "Image - Shape: (32, 32, 3)\n",
      "Label - Label Id: 1 Name: automobile\n"
     ]
    },
    {
     "data": {
      "image/png": "[encoded data removed]",
      "text/plain": [
       "<matplotlib.figure.Figure at 0x27289324390>"
      ]
     },
     "metadata": {
      "image/png": {
       "height": 250,
       "width": 253
      }
     },
     "output_type": "display_data"
    }
   ],
   "source": [
    "%matplotlib inline\n",
    "%config InlineBackend.figure_format = 'retina'\n",
    "\n",
    "import helper\n",
    "import numpy as np\n",
    "\n",
    "# Explore the dataset\n",
    "batch_id = 1\n",
    "sample_id = 5\n",
    "helper.display_stats(cifar10_dataset_folder_path, batch_id, sample_id)"
   ]
  },
  {
   "cell_type": "markdown",
   "metadata": {},
   "source": [
    "## Implement Preprocess Functions\n",
    "### Normalize\n",
    "In the cell below, implement the `normalize` function to take in image data, `x`, and return it as a normalized Numpy array. The values should be in the range of 0 to 1, inclusive.  The return object should be the same shape as `x`."
   ]
  },
  {
   "cell_type": "code",
   "execution_count": 3,
   "metadata": {},
   "outputs": [
    {
     "name": "stdout",
     "output_type": "stream",
     "text": [
      "Tests Passed\n"
     ]
    }
   ],
   "source": [
    "def normalize(x):\n",
    "    \"\"\"\n",
    "    Normalize a list of sample image data in the range of 0 to 1\n",
    "    : x: List of image data.  The image shape is (32, 32, 3)\n",
    "    : return: Numpy array of normalize data\n",
    "    \"\"\"\n",
    "    # TODO: Implement Function\n",
    "    return (x-x.min())/(x.max()-x.min())\n",
    "\n",
    "\n",
    "\"\"\"\n",
    "DON'T MODIFY ANYTHING IN THIS CELL THAT IS BELOW THIS LINE\n",
    "\"\"\"\n",
    "tests.test_normalize(normalize)"
   ]
  },
  {
   "cell_type": "markdown",
   "metadata": {},
   "source": [
    "### One-hot encode\n",
    "Just like the previous code cell, you'll be implementing a function for preprocessing.  This time, you'll implement the `one_hot_encode` function. The input, `x`, are a list of labels.  Implement the function to return the list of labels as One-Hot encoded Numpy array.  The possible values for labels are 0 to 9. The one-hot encoding function should return the same encoding for each value between each call to `one_hot_encode`.  Make sure to save the map of encodings outside the function.\n",
    "\n",
    "Hint: Don't reinvent the wheel."
   ]
  },
  {
   "cell_type": "code",
   "execution_count": 4,
   "metadata": {},
   "outputs": [
    {
     "name": "stdout",
     "output_type": "stream",
     "text": [
      "Tests Passed\n"
     ]
    }
   ],
   "source": [
    "from sklearn.preprocessing import LabelBinarizer\n",
    "\n",
    "def one_hot_encode(x):\n",
    "    \"\"\"\n",
    "    One hot encode a list of sample labels. Return a one-hot encoded vector for each label.\n",
    "    : x: List of sample Labels\n",
    "    : return: Numpy array of one-hot encoded labels\n",
    "    \"\"\"\n",
    "    # check if encoder has been previously created, if not make a global var an initialize it\n",
    "    if 'encoder' not in globals():\n",
    "        global encoder\n",
    "        encoder = LabelBinarizer()\n",
    "        encoder.fit(range(10))\n",
    "    \n",
    "    return encoder.transform(x)\n",
    "\n",
    "\n",
    "\"\"\"\n",
    "DON'T MODIFY ANYTHING IN THIS CELL THAT IS BELOW THIS LINE\n",
    "\"\"\"\n",
    "tests.test_one_hot_encode(one_hot_encode)"
   ]
  },
  {
   "cell_type": "markdown",
   "metadata": {},
   "source": [
    "### Randomize Data\n",
    "As you saw from exploring the data above, the order of the samples are randomized.  It doesn't hurt to randomize it again, but you don't need to for this dataset."
   ]
  },
  {
   "cell_type": "markdown",
   "metadata": {},
   "source": [
    "## Preprocess all the data and save it\n",
    "Running the code cell below will preprocess all the CIFAR-10 data and save it to file. The code below also uses 10% of the training data for validation."
   ]
  },
  {
   "cell_type": "code",
   "execution_count": 5,
   "metadata": {
    "collapsed": true
   },
   "outputs": [],
   "source": [
    "\"\"\"\n",
    "DON'T MODIFY ANYTHING IN THIS CELL\n",
    "\"\"\"\n",
    "# Preprocess Training, Validation, and Testing Data\n",
    "helper.preprocess_and_save_data(cifar10_dataset_folder_path, normalize, one_hot_encode)"
   ]
  },
  {
   "cell_type": "markdown",
   "metadata": {},
   "source": [
    "# Check Point\n",
    "This is your first checkpoint.  If you ever decide to come back to this notebook or have to restart the notebook, you can start from here.  The preprocessed data has been saved to disk."
   ]
  },
  {
   "cell_type": "code",
   "execution_count": 6,
   "metadata": {
    "collapsed": true
   },
   "outputs": [],
   "source": [
    "\"\"\"\n",
    "DON'T MODIFY ANYTHING IN THIS CELL\n",
    "\"\"\"\n",
    "import pickle\n",
    "import problem_unittests as tests\n",
    "import helper\n",
    "\n",
    "# Load the Preprocessed Validation data\n",
    "valid_features, valid_labels = pickle.load(open('preprocess_validation.p', mode='rb'))"
   ]
  },
  {
   "cell_type": "markdown",
   "metadata": {},
   "source": [
    "## Build the network\n",
    "For the neural network, you'll build each layer into a function.  Most of the code you've seen has been outside of functions. To test your code more thoroughly, we require that you put each layer in a function.  This allows us to give you better feedback and test for simple mistakes using our unittests before you submit your project.\n",
    "\n",
    ">**Note:** If you're finding it hard to dedicate enough time for this course each week, we've provided a small shortcut to this part of the project. In the next couple of problems, you'll have the option to use classes from the [TensorFlow Layers](https://www.tensorflow.org/api_docs/python/tf/layers) or [TensorFlow Layers (contrib)](https://www.tensorflow.org/api_guides/python/contrib.layers) packages to build each layer, except the layers you build in the \"Convolutional and Max Pooling Layer\" section.  TF Layers is similar to Keras's and TFLearn's abstraction to layers, so it's easy to pickup.\n",
    "\n",
    ">However, if you would like to get the most out of this course, try to solve all the problems _without_ using anything from the TF Layers packages. You **can** still use classes from other packages that happen to have the same name as ones you find in TF Layers! For example, instead of using the TF Layers version of the `conv2d` class, [tf.layers.conv2d](https://www.tensorflow.org/api_docs/python/tf/layers/conv2d), you would want to use the TF Neural Network version of `conv2d`, [tf.nn.conv2d](https://www.tensorflow.org/api_docs/python/tf/nn/conv2d). \n",
    "\n",
    "Let's begin!\n",
    "\n",
    "### Input\n",
    "The neural network needs to read the image data, one-hot encoded labels, and dropout keep probability. Implement the following functions\n",
    "* Implement `neural_net_image_input`\n",
    " * Return a [TF Placeholder](https://www.tensorflow.org/api_docs/python/tf/placeholder)\n",
    " * Set the shape using `image_shape` with batch size set to `None`.\n",
    " * Name the TensorFlow placeholder \"x\" using the TensorFlow `name` parameter in the [TF Placeholder](https://www.tensorflow.org/api_docs/python/tf/placeholder).\n",
    "* Implement `neural_net_label_input`\n",
    " * Return a [TF Placeholder](https://www.tensorflow.org/api_docs/python/tf/placeholder)\n",
    " * Set the shape using `n_classes` with batch size set to `None`.\n",
    " * Name the TensorFlow placeholder \"y\" using the TensorFlow `name` parameter in the [TF Placeholder](https://www.tensorflow.org/api_docs/python/tf/placeholder).\n",
    "* Implement `neural_net_keep_prob_input`\n",
    " * Return a [TF Placeholder](https://www.tensorflow.org/api_docs/python/tf/placeholder) for dropout keep probability.\n",
    " * Name the TensorFlow placeholder \"keep_prob\" using the TensorFlow `name` parameter in the [TF Placeholder](https://www.tensorflow.org/api_docs/python/tf/placeholder).\n",
    "\n",
    "These names will be used at the end of the project to load your saved model.\n",
    "\n",
    "Note: `None` for shapes in TensorFlow allow for a dynamic size."
   ]
  },
  {
   "cell_type": "code",
   "execution_count": 7,
   "metadata": {},
   "outputs": [
    {
     "name": "stdout",
     "output_type": "stream",
     "text": [
      "Image Input Tests Passed.\n",
      "Label Input Tests Passed.\n",
      "Keep Prob Tests Passed.\n"
     ]
    }
   ],
   "source": [
    "import tensorflow as tf\n",
    "\n",
    "def neural_net_image_input(image_shape):\n",
    "    \"\"\"\n",
    "    Return a Tensor for a batch of image input\n",
    "    : image_shape: Shape of the images\n",
    "    : return: Tensor for image input.\n",
    "    \"\"\"\n",
    "    # TODO: Implement Function\n",
    "    return tf.placeholder(tf.float32, shape=(None,)+image_shape, name='x')\n",
    "\n",
    "\n",
    "def neural_net_label_input(n_classes):\n",
    "    \"\"\"\n",
    "    Return a Tensor for a batch of label input\n",
    "    : n_classes: Number of classes\n",
    "    : return: Tensor for label input.\n",
    "    \"\"\"\n",
    "    # TODO: Implement Function\n",
    "    return tf.placeholder(tf.float32, shape=(None, n_classes), name='y')\n",
    "\n",
    "\n",
    "def neural_net_keep_prob_input():\n",
    "    \"\"\"\n",
    "    Return a Tensor for keep probability\n",
    "    : return: Tensor for keep probability.\n",
    "    \"\"\"\n",
    "    # TODO: Implement Function\n",
    "    return tf.placeholder(tf.float32, name='keep_prob')\n",
    "\n",
    "\n",
    "\"\"\"\n",
    "DON'T MODIFY ANYTHING IN THIS CELL THAT IS BELOW THIS LINE\n",
    "\"\"\"\n",
    "tf.reset_default_graph()\n",
    "tests.test_nn_image_inputs(neural_net_image_input)\n",
    "tests.test_nn_label_inputs(neural_net_label_input)\n",
    "tests.test_nn_keep_prob_inputs(neural_net_keep_prob_input)"
   ]
  },
  {
   "cell_type": "markdown",
   "metadata": {},
   "source": [
    "### Convolution and Max Pooling Layer\n",
    "Convolution layers have a lot of success with images. For this code cell, you should implement the function `conv2d_maxpool` to apply convolution then max pooling:\n",
    "* Create the weight and bias using `conv_ksize`, `conv_num_outputs` and the shape of `x_tensor`.\n",
    "* Apply a convolution to `x_tensor` using weight and `conv_strides`.\n",
    " * We recommend you use same padding, but you're welcome to use any padding.\n",
    "* Add bias\n",
    "* Add a nonlinear activation to the convolution.\n",
    "* Apply Max Pooling using `pool_ksize` and `pool_strides`.\n",
    " * We recommend you use same padding, but you're welcome to use any padding.\n",
    "\n",
    "**Note:** You **can't** use [TensorFlow Layers](https://www.tensorflow.org/api_docs/python/tf/layers) or [TensorFlow Layers (contrib)](https://www.tensorflow.org/api_guides/python/contrib.layers) for **this** layer, but you can still use TensorFlow's [Neural Network](https://www.tensorflow.org/api_docs/python/tf/nn) package. You may still use the shortcut option for all the **other** layers."
   ]
  },
  {
   "cell_type": "code",
   "execution_count": 8,
   "metadata": {},
   "outputs": [
    {
     "name": "stdout",
     "output_type": "stream",
     "text": [
      "Tests Passed\n"
     ]
    }
   ],
   "source": [
    "def conv2d_maxpool(x_tensor, conv_num_outputs, conv_ksize, conv_strides, pool_ksize, pool_strides):\n",
    "    \"\"\"\n",
    "    Apply convolution then max pooling to x_tensor\n",
    "    :param x_tensor: TensorFlow Tensor\n",
    "    :param conv_num_outputs: Number of outputs for the convolutional layer\n",
    "    :param conv_ksize: kernal size 2-D Tuple for the convolutional layer\n",
    "    :param conv_strides: Stride 2-D Tuple for convolution\n",
    "    :param pool_ksize: kernal size 2-D Tuple for pool\n",
    "    :param pool_strides: Stride 2-D Tuple for pool\n",
    "    : return: A tensor that represents convolution and max pooling of x_tensor\n",
    "    \"\"\"\n",
    "    # Splitting input parameters\n",
    "    input_shape = x_tensor.get_shape().as_list()\n",
    "\n",
    "    # 1. Create w and b\n",
    "    w = tf.Variable(tf.truncated_normal([conv_ksize[0], conv_ksize[1], input_shape[3], conv_num_outputs], stddev=0.05))\n",
    "    b = tf.Variable(tf.zeros([conv_num_outputs]))\n",
    "    \n",
    "    # 2. Apply conv2d\n",
    "    conv_strides = (1,) + conv_strides + (1,)\n",
    "    nn = tf.nn.conv2d(x_tensor, w, strides=conv_strides, padding='SAME')\n",
    "    \n",
    "    # 3. Add bias\n",
    "    nn = tf.nn.bias_add(nn, b) \n",
    "    \n",
    "    # 4. Add a nonlinear activation\n",
    "    nn = tf.nn.relu(nn) \n",
    "    \n",
    "    # 5. Apply maxpool\n",
    "    pool_ksize = (1,) + pool_ksize  + (1,)\n",
    "    pool_strides = (1,) + pool_strides  + (1,)\n",
    "    nn = tf.nn.max_pool(nn, ksize=pool_ksize, strides=pool_strides, padding='SAME')\n",
    "    \n",
    "    return nn\n",
    "\n",
    "\n",
    "\"\"\"\n",
    "DON'T MODIFY ANYTHING IN THIS CELL THAT IS BELOW THIS LINE\n",
    "\"\"\"\n",
    "tests.test_con_pool(conv2d_maxpool)"
   ]
  },
  {
   "cell_type": "markdown",
   "metadata": {},
   "source": [
    "### Flatten Layer\n",
    "Implement the `flatten` function to change the dimension of `x_tensor` from a 4-D tensor to a 2-D tensor.  The output should be the shape (*Batch Size*, *Flattened Image Size*). Shortcut option: you can use classes from the [TensorFlow Layers](https://www.tensorflow.org/api_docs/python/tf/layers) or [TensorFlow Layers (contrib)](https://www.tensorflow.org/api_guides/python/contrib.layers) packages for this layer. For more of a challenge, only use other TensorFlow packages."
   ]
  },
  {
   "cell_type": "code",
   "execution_count": 9,
   "metadata": {},
   "outputs": [
    {
     "name": "stdout",
     "output_type": "stream",
     "text": [
      "Tests Passed\n"
     ]
    }
   ],
   "source": [
    "def flatten(x_tensor):\n",
    "    \"\"\"\n",
    "    Flatten x_tensor to (Batch Size, Flattened Image Size)\n",
    "    : x_tensor: A tensor of size (Batch Size, ...), where ... are the image dimensions.\n",
    "    : return: A tensor of size (Batch Size, Flattened Image Size).\n",
    "    \"\"\"\n",
    "    # TODO: Implement Function\n",
    "    return tf.contrib.layers.flatten(x_tensor)\n",
    "\n",
    "#    shape = x_tensor.get_shape().as_list()\n",
    "#    return tf.reshape(x_tensor, [-1, shape[1] * shape[2] * shape[3]])\n",
    "\n",
    "\n",
    "\"\"\"\n",
    "DON'T MODIFY ANYTHING IN THIS CELL THAT IS BELOW THIS LINE\n",
    "\"\"\"\n",
    "tests.test_flatten(flatten)"
   ]
  },
  {
   "cell_type": "markdown",
   "metadata": {},
   "source": [
    "### Fully-Connected Layer\n",
    "Implement the `fully_conn` function to apply a fully connected layer to `x_tensor` with the shape (*Batch Size*, *num_outputs*). Shortcut option: you can use classes from the [TensorFlow Layers](https://www.tensorflow.org/api_docs/python/tf/layers) or [TensorFlow Layers (contrib)](https://www.tensorflow.org/api_guides/python/contrib.layers) packages for this layer. For more of a challenge, only use other TensorFlow packages."
   ]
  },
  {
   "cell_type": "code",
   "execution_count": 10,
   "metadata": {},
   "outputs": [
    {
     "name": "stdout",
     "output_type": "stream",
     "text": [
      "Tests Passed\n"
     ]
    }
   ],
   "source": [
    "def fully_conn(x_tensor, num_outputs):\n",
    "    \"\"\"\n",
    "    Apply a fully connected layer to x_tensor using weight and bias\n",
    "    : x_tensor: A 2-D tensor where the first dimension is batch size.\n",
    "    : num_outputs: The number of output that the new tensor should be.\n",
    "    : return: A 2-D tensor where the second dimension is num_outputs.\n",
    "    \"\"\"\n",
    "    \n",
    "    #return tf.contrib.layers.fully_connected(x_tensor, num_outputs=num_outputs, activation_fn=tf.nn.relu)\n",
    "    \n",
    "    # TODO: Implement Function\n",
    "    input_shape = x_tensor.get_shape().as_list()\n",
    "    \n",
    "    weights = tf.Variable(tf.truncated_normal([input_shape[1], num_outputs], stddev=0.05))\n",
    "    bias = tf.Variable(tf.zeros([num_outputs]))\n",
    "    \n",
    "    fc = tf.add(tf.matmul(x_tensor, weights), bias)\n",
    "    fc = tf.nn.relu(fc)\n",
    "    \n",
    "    return fc\n",
    "\n",
    "\n",
    "\"\"\"\n",
    "DON'T MODIFY ANYTHING IN THIS CELL THAT IS BELOW THIS LINE\n",
    "\"\"\"\n",
    "tests.test_fully_conn(fully_conn)"
   ]
  },
  {
   "cell_type": "markdown",
   "metadata": {},
   "source": [
    "### Output Layer\n",
    "Implement the `output` function to apply a fully connected layer to `x_tensor` with the shape (*Batch Size*, *num_outputs*). Shortcut option: you can use classes from the [TensorFlow Layers](https://www.tensorflow.org/api_docs/python/tf/layers) or [TensorFlow Layers (contrib)](https://www.tensorflow.org/api_guides/python/contrib.layers) packages for this layer. For more of a challenge, only use other TensorFlow packages.\n",
    "\n",
    "**Note:** Activation, softmax, or cross entropy should **not** be applied to this."
   ]
  },
  {
   "cell_type": "code",
   "execution_count": 11,
   "metadata": {},
   "outputs": [
    {
     "name": "stdout",
     "output_type": "stream",
     "text": [
      "Tests Passed\n"
     ]
    }
   ],
   "source": [
    "def output(x_tensor, num_outputs):\n",
    "    \"\"\"\n",
    "    Apply a output layer to x_tensor using weight and bias\n",
    "    : x_tensor: A 2-D tensor where the first dimension is batch size.\n",
    "    : num_outputs: The number of output that the new tensor should be.\n",
    "    : return: A 2-D tensor where the second dimension is num_outputs.\n",
    "    \"\"\"\n",
    "    #return tf.contrib.layers.fully_connected(x_tensor, num_outputs=num_outputs, activation_fn=None)\n",
    "\n",
    "    # TODO: Implement Function\n",
    "    input_shape = x_tensor.get_shape().as_list()\n",
    "    \n",
    "    weights = tf.Variable(tf.truncated_normal([input_shape[1], num_outputs], stddev=0.05))\n",
    "    bias = tf.Variable(tf.zeros([num_outputs]))\n",
    "    \n",
    "    # Without activation function\n",
    "    \n",
    "    return tf.add(tf.matmul(x_tensor, weights), bias)\n",
    "\n",
    "\n",
    "\"\"\"\n",
    "DON'T MODIFY ANYTHING IN THIS CELL THAT IS BELOW THIS LINE\n",
    "\"\"\"\n",
    "tests.test_output(output)"
   ]
  },
  {
   "cell_type": "markdown",
   "metadata": {},
   "source": [
    "### Create Convolutional Model\n",
    "Implement the function `conv_net` to create a convolutional neural network model. The function takes in a batch of images, `x`, and outputs logits.  Use the layers you created above to create this model:\n",
    "\n",
    "* Apply 1, 2, or 3 Convolution and Max Pool layers\n",
    "* Apply a Flatten Layer\n",
    "* Apply 1, 2, or 3 Fully Connected Layers\n",
    "* Apply an Output Layer\n",
    "* Return the output\n",
    "* Apply [TensorFlow's Dropout](https://www.tensorflow.org/api_docs/python/tf/nn/dropout) to one or more layers in the model using `keep_prob`. "
   ]
  },
  {
   "cell_type": "code",
   "execution_count": 12,
   "metadata": {},
   "outputs": [
    {
     "name": "stdout",
     "output_type": "stream",
     "text": [
      "Neural Network Built!\n"
     ]
    }
   ],
   "source": [
    "def conv_net(x, keep_prob):\n",
    "    \"\"\"\n",
    "    Create a convolutional neural network model\n",
    "    : x: Placeholder tensor that holds image data.\n",
    "    : keep_prob: Placeholder tensor that hold dropout keep probability.\n",
    "    : return: Tensor that represents logits\n",
    "    \"\"\"\n",
    "    # TODO: Apply 1, 2, or 3 Convolution and Max Pool layers\n",
    "    nn = conv2d_maxpool(x, \n",
    "                        conv_num_outputs=64, \n",
    "                        conv_ksize=(3,3), \n",
    "                        conv_strides=(1,1), \n",
    "                        pool_ksize=(2,2), \n",
    "                        pool_strides=(2,2))\n",
    "    nn = conv2d_maxpool(x, \n",
    "                        conv_num_outputs=64, \n",
    "                        conv_ksize=(3,3), \n",
    "                        conv_strides=(1,1), \n",
    "                        pool_ksize=(2,2), \n",
    "                        pool_strides=(2,2))\n",
    "\n",
    "\n",
    "    \n",
    "    # TODO: Apply a Flatten Layer\n",
    "    nn = flatten(nn)\n",
    "\n",
    "    # TODO: Apply 1, 2, or 3 Fully Connected Layers\n",
    "    nn = fully_conn(nn, 512)\n",
    "    nn = tf.nn.dropout(nn, keep_prob) \n",
    "\n",
    "    \n",
    "    # TODO: Apply an Output Layer\n",
    "    nn = output(nn, 10)\n",
    "    \n",
    "    # TODO: return output\n",
    "    return nn\n",
    "\n",
    "\n",
    "\"\"\"\n",
    "DON'T MODIFY ANYTHING IN THIS CELL THAT IS BELOW THIS LINE\n",
    "\"\"\"\n",
    "\n",
    "##############################\n",
    "## Build the Neural Network ##\n",
    "##############################\n",
    "\n",
    "# Remove previous weights, bias, inputs, etc..\n",
    "tf.reset_default_graph()\n",
    "\n",
    "# Inputs\n",
    "x = neural_net_image_input((32, 32, 3))\n",
    "y = neural_net_label_input(10)\n",
    "keep_prob = neural_net_keep_prob_input()\n",
    "\n",
    "# Model\n",
    "logits = conv_net(x, keep_prob)\n",
    "\n",
    "# Name logits Tensor, so that is can be loaded from disk after training\n",
    "logits = tf.identity(logits, name='logits')\n",
    "\n",
    "# Loss and Optimizer\n",
    "cost = tf.reduce_mean(tf.nn.softmax_cross_entropy_with_logits(logits=logits, labels=y))\n",
    "optimizer = tf.train.AdamOptimizer().minimize(cost)\n",
    "\n",
    "# Accuracy\n",
    "correct_pred = tf.equal(tf.argmax(logits, 1), tf.argmax(y, 1))\n",
    "accuracy = tf.reduce_mean(tf.cast(correct_pred, tf.float32), name='accuracy')\n",
    "\n",
    "tests.test_conv_net(conv_net)"
   ]
  },
  {
   "cell_type": "markdown",
   "metadata": {},
   "source": [
    "## Train the Neural Network\n",
    "### Single Optimization\n",
    "Implement the function `train_neural_network` to do a single optimization.  The optimization should use `optimizer` to optimize in `session` with a `feed_dict` of the following:\n",
    "* `x` for image input\n",
    "* `y` for labels\n",
    "* `keep_prob` for keep probability for dropout\n",
    "\n",
    "This function will be called for each batch, so `tf.global_variables_initializer()` has already been called.\n",
    "\n",
    "Note: Nothing needs to be returned. This function is only optimizing the neural network."
   ]
  },
  {
   "cell_type": "code",
   "execution_count": 13,
   "metadata": {},
   "outputs": [
    {
     "name": "stdout",
     "output_type": "stream",
     "text": [
      "Tests Passed\n"
     ]
    }
   ],
   "source": [
    "def train_neural_network(session, optimizer, keep_probability, feature_batch, label_batch):\n",
    "    \"\"\"\n",
    "    Optimize the session on a batch of images and labels\n",
    "    : session: Current TensorFlow session\n",
    "    : optimizer: TensorFlow optimizer function\n",
    "    : keep_probability: keep probability\n",
    "    : feature_batch: Batch of Numpy image data\n",
    "    : label_batch: Batch of Numpy label data\n",
    "    \"\"\"\n",
    "    # TODO: Implement Function\n",
    "    session.run(optimizer, feed_dict={\n",
    "                            x: feature_batch, \n",
    "                            y: label_batch, \n",
    "                            keep_prob: keep_probability})\n",
    "\n",
    "\n",
    "\"\"\"\n",
    "DON'T MODIFY ANYTHING IN THIS CELL THAT IS BELOW THIS LINE\n",
    "\"\"\"\n",
    "tests.test_train_nn(train_neural_network)"
   ]
  },
  {
   "cell_type": "markdown",
   "metadata": {},
   "source": [
    "### Show Stats\n",
    "Implement the function `print_stats` to print loss and validation accuracy.  Use the global variables `valid_features` and `valid_labels` to calculate validation accuracy.  Use a keep probability of `1.0` to calculate the loss and validation accuracy."
   ]
  },
  {
   "cell_type": "code",
   "execution_count": 14,
   "metadata": {
    "collapsed": true
   },
   "outputs": [],
   "source": [
    "def print_stats(session, feature_batch, label_batch, cost, accuracy):\n",
    "    \"\"\"\n",
    "    Print information about loss and validation accuracy\n",
    "    : session: Current TensorFlow session\n",
    "    : feature_batch: Batch of Numpy image data\n",
    "    : label_batch: Batch of Numpy label data\n",
    "    : cost: TensorFlow cost function\n",
    "    : accuracy: TensorFlow accuracy function\n",
    "    \"\"\"\n",
    "    # TODO: Implement Function\n",
    "    cost_value = session.run(cost, feed_dict={x: feature_batch, y: label_batch, keep_prob: 1.0})\n",
    "    accuracy_value = session.run(accuracy, feed_dict={x: valid_features, y: valid_labels, keep_prob: 1.0})\n",
    "    \n",
    "    print(\"\\tCost: {:.4f} \\tValidation Accuracy: {:.6f}\".format(cost_value, accuracy_value))"
   ]
  },
  {
   "cell_type": "markdown",
   "metadata": {},
   "source": [
    "### Hyperparameters\n",
    "Tune the following parameters:\n",
    "* Set `epochs` to the number of iterations until the network stops learning or start overfitting\n",
    "* Set `batch_size` to the highest number that your machine has memory for.  Most people set them to common sizes of memory:\n",
    " * 64\n",
    " * 128\n",
    " * 256\n",
    " * ...\n",
    "* Set `keep_probability` to the probability of keeping a node using dropout"
   ]
  },
  {
   "cell_type": "code",
   "execution_count": 15,
   "metadata": {
    "collapsed": true
   },
   "outputs": [],
   "source": [
    "# TODO: Tune Parameters\n",
    "epochs = 30\n",
    "batch_size = 1024\n",
    "keep_probability = 0.5"
   ]
  },
  {
   "cell_type": "markdown",
   "metadata": {},
   "source": [
    "### Train on a Single CIFAR-10 Batch\n",
    "Instead of training the neural network on all the CIFAR-10 batches of data, let's use a single batch. This should save time while you iterate on the model to get a better accuracy.  Once the final validation accuracy is 50% or greater, run the model on all the data in the next section."
   ]
  },
  {
   "cell_type": "code",
   "execution_count": 16,
   "metadata": {},
   "outputs": [
    {
     "name": "stdout",
     "output_type": "stream",
     "text": [
      "Checking the Training on a Single Batch...\n",
      "Epoch  1, CIFAR-10 Batch 1:  \tCost: 2.1336 \tValidation Accuracy: 0.213200\n",
      "Epoch  2, CIFAR-10 Batch 1:  \tCost: 1.9215 \tValidation Accuracy: 0.347000\n",
      "Epoch  3, CIFAR-10 Batch 1:  \tCost: 1.7860 \tValidation Accuracy: 0.381000\n",
      "Epoch  4, CIFAR-10 Batch 1:  \tCost: 1.6931 \tValidation Accuracy: 0.404200\n",
      "Epoch  5, CIFAR-10 Batch 1:  \tCost: 1.5893 \tValidation Accuracy: 0.434200\n",
      "Epoch  6, CIFAR-10 Batch 1:  \tCost: 1.5144 \tValidation Accuracy: 0.456600\n",
      "Epoch  7, CIFAR-10 Batch 1:  \tCost: 1.4519 \tValidation Accuracy: 0.467600\n",
      "Epoch  8, CIFAR-10 Batch 1:  \tCost: 1.3856 \tValidation Accuracy: 0.478400\n",
      "Epoch  9, CIFAR-10 Batch 1:  \tCost: 1.3206 \tValidation Accuracy: 0.490000\n",
      "Epoch 10, CIFAR-10 Batch 1:  \tCost: 1.2846 \tValidation Accuracy: 0.494400\n",
      "Epoch 11, CIFAR-10 Batch 1:  \tCost: 1.2248 \tValidation Accuracy: 0.509800\n",
      "Epoch 12, CIFAR-10 Batch 1:  \tCost: 1.1811 \tValidation Accuracy: 0.513200\n",
      "Epoch 13, CIFAR-10 Batch 1:  \tCost: 1.1495 \tValidation Accuracy: 0.519200\n",
      "Epoch 14, CIFAR-10 Batch 1:  \tCost: 1.1184 \tValidation Accuracy: 0.521800\n",
      "Epoch 15, CIFAR-10 Batch 1:  \tCost: 1.0738 \tValidation Accuracy: 0.528400\n",
      "Epoch 16, CIFAR-10 Batch 1:  \tCost: 1.0263 \tValidation Accuracy: 0.538600\n",
      "Epoch 17, CIFAR-10 Batch 1:  \tCost: 0.9953 \tValidation Accuracy: 0.534600\n",
      "Epoch 18, CIFAR-10 Batch 1:  \tCost: 0.9554 \tValidation Accuracy: 0.544000\n",
      "Epoch 19, CIFAR-10 Batch 1:  \tCost: 0.9149 \tValidation Accuracy: 0.546200\n",
      "Epoch 20, CIFAR-10 Batch 1:  \tCost: 0.8921 \tValidation Accuracy: 0.546800\n",
      "Epoch 21, CIFAR-10 Batch 1:  \tCost: 0.8582 \tValidation Accuracy: 0.553800\n",
      "Epoch 22, CIFAR-10 Batch 1:  \tCost: 0.8268 \tValidation Accuracy: 0.555600\n",
      "Epoch 23, CIFAR-10 Batch 1:  \tCost: 0.8018 \tValidation Accuracy: 0.550800\n",
      "Epoch 24, CIFAR-10 Batch 1:  \tCost: 0.7710 \tValidation Accuracy: 0.565000\n",
      "Epoch 25, CIFAR-10 Batch 1:  \tCost: 0.7526 \tValidation Accuracy: 0.555200\n",
      "Epoch 26, CIFAR-10 Batch 1:  \tCost: 0.7216 \tValidation Accuracy: 0.564800\n",
      "Epoch 27, CIFAR-10 Batch 1:  \tCost: 0.7001 \tValidation Accuracy: 0.558000\n",
      "Epoch 28, CIFAR-10 Batch 1:  \tCost: 0.6785 \tValidation Accuracy: 0.560600\n",
      "Epoch 29, CIFAR-10 Batch 1:  \tCost: 0.6526 \tValidation Accuracy: 0.566600\n",
      "Epoch 30, CIFAR-10 Batch 1:  \tCost: 0.6258 \tValidation Accuracy: 0.570200\n"
     ]
    }
   ],
   "source": [
    "\"\"\"\n",
    "DON'T MODIFY ANYTHING IN THIS CELL\n",
    "\"\"\"\n",
    "print('Checking the Training on a Single Batch...')\n",
    "with tf.Session() as sess:\n",
    "    # Initializing the variables\n",
    "    sess.run(tf.global_variables_initializer())\n",
    "    \n",
    "    # Training cycle\n",
    "    for epoch in range(epochs):\n",
    "        batch_i = 1\n",
    "        for batch_features, batch_labels in helper.load_preprocess_training_batch(batch_i, batch_size):\n",
    "            train_neural_network(sess, optimizer, keep_probability, batch_features, batch_labels)\n",
    "        print('Epoch {:>2}, CIFAR-10 Batch {}:  '.format(epoch + 1, batch_i), end='')\n",
    "        print_stats(sess, batch_features, batch_labels, cost, accuracy)"
   ]
  },
  {
   "cell_type": "markdown",
   "metadata": {},
   "source": [
    "### Fully Train the Model\n",
    "Now that you got a good accuracy with a single CIFAR-10 batch, try it with all five batches."
   ]
  },
  {
   "cell_type": "code",
   "execution_count": 17,
   "metadata": {},
   "outputs": [
    {
     "name": "stdout",
     "output_type": "stream",
     "text": [
      "Training...\n",
      "Epoch  1, CIFAR-10 Batch 1:  \tCost: 2.2251 \tValidation Accuracy: 0.190000\n",
      "Epoch  1, CIFAR-10 Batch 2:  \tCost: 2.1054 \tValidation Accuracy: 0.273400\n",
      "Epoch  1, CIFAR-10 Batch 3:  \tCost: 1.9124 \tValidation Accuracy: 0.334000\n",
      "Epoch  1, CIFAR-10 Batch 4:  \tCost: 1.8252 \tValidation Accuracy: 0.369600\n",
      "Epoch  1, CIFAR-10 Batch 5:  \tCost: 1.7691 \tValidation Accuracy: 0.377000\n",
      "Epoch  2, CIFAR-10 Batch 1:  \tCost: 1.6932 \tValidation Accuracy: 0.411600\n",
      "Epoch  2, CIFAR-10 Batch 2:  \tCost: 1.6274 \tValidation Accuracy: 0.443600\n",
      "Epoch  2, CIFAR-10 Batch 3:  \tCost: 1.5079 \tValidation Accuracy: 0.454600\n",
      "Epoch  2, CIFAR-10 Batch 4:  \tCost: 1.5109 \tValidation Accuracy: 0.468200\n",
      "Epoch  2, CIFAR-10 Batch 5:  \tCost: 1.4869 \tValidation Accuracy: 0.477800\n",
      "Epoch  3, CIFAR-10 Batch 1:  \tCost: 1.4584 \tValidation Accuracy: 0.481600\n",
      "Epoch  3, CIFAR-10 Batch 2:  \tCost: 1.4240 \tValidation Accuracy: 0.505400\n",
      "Epoch  3, CIFAR-10 Batch 3:  \tCost: 1.3361 \tValidation Accuracy: 0.502000\n",
      "Epoch  3, CIFAR-10 Batch 4:  \tCost: 1.3521 \tValidation Accuracy: 0.509800\n",
      "Epoch  3, CIFAR-10 Batch 5:  \tCost: 1.3421 \tValidation Accuracy: 0.517400\n",
      "Epoch  4, CIFAR-10 Batch 1:  \tCost: 1.3264 \tValidation Accuracy: 0.524000\n",
      "Epoch  4, CIFAR-10 Batch 2:  \tCost: 1.3088 \tValidation Accuracy: 0.534000\n",
      "Epoch  4, CIFAR-10 Batch 3:  \tCost: 1.2350 \tValidation Accuracy: 0.535200\n",
      "Epoch  4, CIFAR-10 Batch 4:  \tCost: 1.2540 \tValidation Accuracy: 0.532200\n",
      "Epoch  4, CIFAR-10 Batch 5:  \tCost: 1.2413 \tValidation Accuracy: 0.545000\n",
      "Epoch  5, CIFAR-10 Batch 1:  \tCost: 1.2363 \tValidation Accuracy: 0.542000\n",
      "Epoch  5, CIFAR-10 Batch 2:  \tCost: 1.2333 \tValidation Accuracy: 0.551200\n",
      "Epoch  5, CIFAR-10 Batch 3:  \tCost: 1.1498 \tValidation Accuracy: 0.559200\n",
      "Epoch  5, CIFAR-10 Batch 4:  \tCost: 1.1781 \tValidation Accuracy: 0.559200\n",
      "Epoch  5, CIFAR-10 Batch 5:  \tCost: 1.1598 \tValidation Accuracy: 0.565200\n",
      "Epoch  6, CIFAR-10 Batch 1:  \tCost: 1.1650 \tValidation Accuracy: 0.561800\n",
      "Epoch  6, CIFAR-10 Batch 2:  \tCost: 1.1667 \tValidation Accuracy: 0.571200\n",
      "Epoch  6, CIFAR-10 Batch 3:  \tCost: 1.0898 \tValidation Accuracy: 0.572800\n",
      "Epoch  6, CIFAR-10 Batch 4:  \tCost: 1.1359 \tValidation Accuracy: 0.574400\n",
      "Epoch  6, CIFAR-10 Batch 5:  \tCost: 1.0957 \tValidation Accuracy: 0.576600\n",
      "Epoch  7, CIFAR-10 Batch 1:  \tCost: 1.1057 \tValidation Accuracy: 0.579600\n",
      "Epoch  7, CIFAR-10 Batch 2:  \tCost: 1.1052 \tValidation Accuracy: 0.590200\n",
      "Epoch  7, CIFAR-10 Batch 3:  \tCost: 1.0453 \tValidation Accuracy: 0.582600\n",
      "Epoch  7, CIFAR-10 Batch 4:  \tCost: 1.0662 \tValidation Accuracy: 0.583600\n",
      "Epoch  7, CIFAR-10 Batch 5:  \tCost: 1.0397 \tValidation Accuracy: 0.594400\n",
      "Epoch  8, CIFAR-10 Batch 1:  \tCost: 1.0545 \tValidation Accuracy: 0.602400\n",
      "Epoch  8, CIFAR-10 Batch 2:  \tCost: 1.0522 \tValidation Accuracy: 0.602000\n",
      "Epoch  8, CIFAR-10 Batch 3:  \tCost: 0.9987 \tValidation Accuracy: 0.588600\n",
      "Epoch  8, CIFAR-10 Batch 4:  \tCost: 1.0166 \tValidation Accuracy: 0.597600\n",
      "Epoch  8, CIFAR-10 Batch 5:  \tCost: 0.9868 \tValidation Accuracy: 0.602000\n",
      "Epoch  9, CIFAR-10 Batch 1:  \tCost: 1.0116 \tValidation Accuracy: 0.607400\n",
      "Epoch  9, CIFAR-10 Batch 2:  \tCost: 1.0170 \tValidation Accuracy: 0.604200\n",
      "Epoch  9, CIFAR-10 Batch 3:  \tCost: 0.9437 \tValidation Accuracy: 0.607800\n",
      "Epoch  9, CIFAR-10 Batch 4:  \tCost: 0.9600 \tValidation Accuracy: 0.609400\n",
      "Epoch  9, CIFAR-10 Batch 5:  \tCost: 0.9375 \tValidation Accuracy: 0.614400\n",
      "Epoch 10, CIFAR-10 Batch 1:  \tCost: 0.9610 \tValidation Accuracy: 0.619600\n",
      "Epoch 10, CIFAR-10 Batch 2:  \tCost: 0.9771 \tValidation Accuracy: 0.614400\n",
      "Epoch 10, CIFAR-10 Batch 3:  \tCost: 0.9104 \tValidation Accuracy: 0.610800\n",
      "Epoch 10, CIFAR-10 Batch 4:  \tCost: 0.9230 \tValidation Accuracy: 0.614600\n",
      "Epoch 10, CIFAR-10 Batch 5:  \tCost: 0.8968 \tValidation Accuracy: 0.619200\n",
      "Epoch 11, CIFAR-10 Batch 1:  \tCost: 0.9152 \tValidation Accuracy: 0.617000\n",
      "Epoch 11, CIFAR-10 Batch 2:  \tCost: 0.9224 \tValidation Accuracy: 0.625200\n",
      "Epoch 11, CIFAR-10 Batch 3:  \tCost: 0.8747 \tValidation Accuracy: 0.612800\n",
      "Epoch 11, CIFAR-10 Batch 4:  \tCost: 0.8827 \tValidation Accuracy: 0.622000\n",
      "Epoch 11, CIFAR-10 Batch 5:  \tCost: 0.8525 \tValidation Accuracy: 0.627200\n",
      "Epoch 12, CIFAR-10 Batch 1:  \tCost: 0.8812 \tValidation Accuracy: 0.627400\n",
      "Epoch 12, CIFAR-10 Batch 2:  \tCost: 0.8907 \tValidation Accuracy: 0.627000\n",
      "Epoch 12, CIFAR-10 Batch 3:  \tCost: 0.8256 \tValidation Accuracy: 0.627200\n",
      "Epoch 12, CIFAR-10 Batch 4:  \tCost: 0.8402 \tValidation Accuracy: 0.633600\n",
      "Epoch 12, CIFAR-10 Batch 5:  \tCost: 0.8205 \tValidation Accuracy: 0.634400\n",
      "Epoch 13, CIFAR-10 Batch 1:  \tCost: 0.8482 \tValidation Accuracy: 0.635800\n",
      "Epoch 13, CIFAR-10 Batch 2:  \tCost: 0.8507 \tValidation Accuracy: 0.634800\n",
      "Epoch 13, CIFAR-10 Batch 3:  \tCost: 0.8208 \tValidation Accuracy: 0.623600\n",
      "Epoch 13, CIFAR-10 Batch 4:  \tCost: 0.8285 \tValidation Accuracy: 0.627000\n",
      "Epoch 13, CIFAR-10 Batch 5:  \tCost: 0.7980 \tValidation Accuracy: 0.637600\n",
      "Epoch 14, CIFAR-10 Batch 1:  \tCost: 0.8404 \tValidation Accuracy: 0.632800\n",
      "Epoch 14, CIFAR-10 Batch 2:  \tCost: 0.8209 \tValidation Accuracy: 0.638400\n",
      "Epoch 14, CIFAR-10 Batch 3:  \tCost: 0.7866 \tValidation Accuracy: 0.627400\n",
      "Epoch 14, CIFAR-10 Batch 4:  \tCost: 0.7850 \tValidation Accuracy: 0.637200\n",
      "Epoch 14, CIFAR-10 Batch 5:  \tCost: 0.7633 \tValidation Accuracy: 0.634000\n",
      "Epoch 15, CIFAR-10 Batch 1:  \tCost: 0.7988 \tValidation Accuracy: 0.640600\n",
      "Epoch 15, CIFAR-10 Batch 2:  \tCost: 0.7867 \tValidation Accuracy: 0.643800\n",
      "Epoch 15, CIFAR-10 Batch 3:  \tCost: 0.7466 \tValidation Accuracy: 0.639200\n",
      "Epoch 15, CIFAR-10 Batch 4:  \tCost: 0.7411 \tValidation Accuracy: 0.644200\n",
      "Epoch 15, CIFAR-10 Batch 5:  \tCost: 0.7188 \tValidation Accuracy: 0.646600\n",
      "Epoch 16, CIFAR-10 Batch 1:  \tCost: 0.7717 \tValidation Accuracy: 0.650400\n",
      "Epoch 16, CIFAR-10 Batch 2:  \tCost: 0.7499 \tValidation Accuracy: 0.650800\n",
      "Epoch 16, CIFAR-10 Batch 3:  \tCost: 0.7133 \tValidation Accuracy: 0.642600\n",
      "Epoch 16, CIFAR-10 Batch 4:  \tCost: 0.7159 \tValidation Accuracy: 0.640600\n",
      "Epoch 16, CIFAR-10 Batch 5:  \tCost: 0.6928 \tValidation Accuracy: 0.648600\n",
      "Epoch 17, CIFAR-10 Batch 1:  \tCost: 0.7453 \tValidation Accuracy: 0.652200\n",
      "Epoch 17, CIFAR-10 Batch 2:  \tCost: 0.7177 \tValidation Accuracy: 0.651200\n",
      "Epoch 17, CIFAR-10 Batch 3:  \tCost: 0.6755 \tValidation Accuracy: 0.653400\n",
      "Epoch 17, CIFAR-10 Batch 4:  \tCost: 0.6811 \tValidation Accuracy: 0.649200\n",
      "Epoch 17, CIFAR-10 Batch 5:  \tCost: 0.6601 \tValidation Accuracy: 0.655600\n",
      "Epoch 18, CIFAR-10 Batch 1:  \tCost: 0.7108 \tValidation Accuracy: 0.654200\n",
      "Epoch 18, CIFAR-10 Batch 2:  \tCost: 0.6903 \tValidation Accuracy: 0.656600\n",
      "Epoch 18, CIFAR-10 Batch 3:  \tCost: 0.6532 \tValidation Accuracy: 0.655400\n",
      "Epoch 18, CIFAR-10 Batch 4:  \tCost: 0.6653 \tValidation Accuracy: 0.651600\n",
      "Epoch 18, CIFAR-10 Batch 5:  \tCost: 0.6337 \tValidation Accuracy: 0.657800\n",
      "Epoch 19, CIFAR-10 Batch 1:  \tCost: 0.6877 \tValidation Accuracy: 0.655400\n",
      "Epoch 19, CIFAR-10 Batch 2:  \tCost: 0.6646 \tValidation Accuracy: 0.657800\n",
      "Epoch 19, CIFAR-10 Batch 3:  \tCost: 0.6241 \tValidation Accuracy: 0.657200\n",
      "Epoch 19, CIFAR-10 Batch 4:  \tCost: 0.6294 \tValidation Accuracy: 0.661000\n",
      "Epoch 19, CIFAR-10 Batch 5:  \tCost: 0.6013 \tValidation Accuracy: 0.663600\n",
      "Epoch 20, CIFAR-10 Batch 1:  \tCost: 0.6754 \tValidation Accuracy: 0.657200\n",
      "Epoch 20, CIFAR-10 Batch 2:  \tCost: 0.6377 \tValidation Accuracy: 0.661000\n",
      "Epoch 20, CIFAR-10 Batch 3:  \tCost: 0.6062 \tValidation Accuracy: 0.660600\n",
      "Epoch 20, CIFAR-10 Batch 4:  \tCost: 0.6094 \tValidation Accuracy: 0.660800\n",
      "Epoch 20, CIFAR-10 Batch 5:  \tCost: 0.5794 \tValidation Accuracy: 0.658600\n",
      "Epoch 21, CIFAR-10 Batch 1:  \tCost: 0.6393 \tValidation Accuracy: 0.664600\n",
      "Epoch 21, CIFAR-10 Batch 2:  \tCost: 0.6087 \tValidation Accuracy: 0.667000\n",
      "Epoch 21, CIFAR-10 Batch 3:  \tCost: 0.5867 \tValidation Accuracy: 0.662600\n",
      "Epoch 21, CIFAR-10 Batch 4:  \tCost: 0.5831 \tValidation Accuracy: 0.659600\n",
      "Epoch 21, CIFAR-10 Batch 5:  \tCost: 0.5541 \tValidation Accuracy: 0.666000\n",
      "Epoch 22, CIFAR-10 Batch 1:  \tCost: 0.6221 \tValidation Accuracy: 0.659400\n",
      "Epoch 22, CIFAR-10 Batch 2:  \tCost: 0.6032 \tValidation Accuracy: 0.666400\n",
      "Epoch 22, CIFAR-10 Batch 3:  \tCost: 0.5472 \tValidation Accuracy: 0.663200\n",
      "Epoch 22, CIFAR-10 Batch 4:  \tCost: 0.5499 \tValidation Accuracy: 0.666000\n",
      "Epoch 22, CIFAR-10 Batch 5:  \tCost: 0.5211 \tValidation Accuracy: 0.666000\n",
      "Epoch 23, CIFAR-10 Batch 1:  \tCost: 0.5814 \tValidation Accuracy: 0.668600\n",
      "Epoch 23, CIFAR-10 Batch 2:  \tCost: 0.5702 \tValidation Accuracy: 0.665200\n",
      "Epoch 23, CIFAR-10 Batch 3:  \tCost: 0.5340 \tValidation Accuracy: 0.668600\n",
      "Epoch 23, CIFAR-10 Batch 4:  \tCost: 0.5312 \tValidation Accuracy: 0.669200\n",
      "Epoch 23, CIFAR-10 Batch 5:  \tCost: 0.4935 \tValidation Accuracy: 0.667600\n",
      "Epoch 24, CIFAR-10 Batch 1:  \tCost: 0.5753 \tValidation Accuracy: 0.666800\n",
      "Epoch 24, CIFAR-10 Batch 2:  \tCost: 0.5403 \tValidation Accuracy: 0.669200\n",
      "Epoch 24, CIFAR-10 Batch 3:  \tCost: 0.5190 \tValidation Accuracy: 0.663400\n",
      "Epoch 24, CIFAR-10 Batch 4:  \tCost: 0.5128 \tValidation Accuracy: 0.660600\n",
      "Epoch 24, CIFAR-10 Batch 5:  \tCost: 0.4814 \tValidation Accuracy: 0.672400\n",
      "Epoch 25, CIFAR-10 Batch 1:  \tCost: 0.5430 \tValidation Accuracy: 0.668200\n",
      "Epoch 25, CIFAR-10 Batch 2:  \tCost: 0.5360 \tValidation Accuracy: 0.665400\n",
      "Epoch 25, CIFAR-10 Batch 3:  \tCost: 0.5027 \tValidation Accuracy: 0.664400\n",
      "Epoch 25, CIFAR-10 Batch 4:  \tCost: 0.4951 \tValidation Accuracy: 0.661200\n",
      "Epoch 25, CIFAR-10 Batch 5:  \tCost: 0.4621 \tValidation Accuracy: 0.664800\n",
      "Epoch 26, CIFAR-10 Batch 1:  \tCost: 0.5266 \tValidation Accuracy: 0.671200\n",
      "Epoch 26, CIFAR-10 Batch 2:  \tCost: 0.5121 \tValidation Accuracy: 0.662600\n",
      "Epoch 26, CIFAR-10 Batch 3:  \tCost: 0.4686 \tValidation Accuracy: 0.674200\n",
      "Epoch 26, CIFAR-10 Batch 4:  \tCost: 0.4919 \tValidation Accuracy: 0.662000\n",
      "Epoch 26, CIFAR-10 Batch 5:  \tCost: 0.4366 \tValidation Accuracy: 0.669800\n",
      "Epoch 27, CIFAR-10 Batch 1:  \tCost: 0.5226 \tValidation Accuracy: 0.670400\n",
      "Epoch 27, CIFAR-10 Batch 2:  \tCost: 0.4816 \tValidation Accuracy: 0.674800\n",
      "Epoch 27, CIFAR-10 Batch 3:  \tCost: 0.4872 \tValidation Accuracy: 0.660600\n",
      "Epoch 27, CIFAR-10 Batch 4:  \tCost: 0.4865 \tValidation Accuracy: 0.660200\n",
      "Epoch 27, CIFAR-10 Batch 5:  \tCost: 0.4374 \tValidation Accuracy: 0.660800\n",
      "Epoch 28, CIFAR-10 Batch 1:  \tCost: 0.4932 \tValidation Accuracy: 0.670200\n",
      "Epoch 28, CIFAR-10 Batch 2:  \tCost: 0.4706 \tValidation Accuracy: 0.671400\n",
      "Epoch 28, CIFAR-10 Batch 3:  \tCost: 0.4389 \tValidation Accuracy: 0.668200\n",
      "Epoch 28, CIFAR-10 Batch 4:  \tCost: 0.4474 \tValidation Accuracy: 0.665800\n",
      "Epoch 28, CIFAR-10 Batch 5:  \tCost: 0.4075 \tValidation Accuracy: 0.667200\n",
      "Epoch 29, CIFAR-10 Batch 1:  \tCost: 0.4636 \tValidation Accuracy: 0.675000\n",
      "Epoch 29, CIFAR-10 Batch 2:  \tCost: 0.4457 \tValidation Accuracy: 0.673800\n",
      "Epoch 29, CIFAR-10 Batch 3:  \tCost: 0.4239 \tValidation Accuracy: 0.669000\n",
      "Epoch 29, CIFAR-10 Batch 4:  \tCost: 0.4296 \tValidation Accuracy: 0.672000\n",
      "Epoch 29, CIFAR-10 Batch 5:  \tCost: 0.3853 \tValidation Accuracy: 0.674000\n",
      "Epoch 30, CIFAR-10 Batch 1:  \tCost: 0.4378 \tValidation Accuracy: 0.676600\n",
      "Epoch 30, CIFAR-10 Batch 2:  \tCost: 0.4193 \tValidation Accuracy: 0.677000\n",
      "Epoch 30, CIFAR-10 Batch 3:  \tCost: 0.4014 \tValidation Accuracy: 0.671600\n",
      "Epoch 30, CIFAR-10 Batch 4:  \tCost: 0.4081 \tValidation Accuracy: 0.666800\n",
      "Epoch 30, CIFAR-10 Batch 5:  \tCost: 0.3684 \tValidation Accuracy: 0.676600\n"
     ]
    }
   ],
   "source": [
    "\"\"\"\n",
    "DON'T MODIFY ANYTHING IN THIS CELL\n",
    "\"\"\"\n",
    "save_model_path = './image_classification'\n",
    "\n",
    "print('Training...')\n",
    "with tf.Session() as sess:\n",
    "    # Initializing the variables\n",
    "    sess.run(tf.global_variables_initializer())\n",
    "    \n",
    "    # Training cycle\n",
    "    for epoch in range(epochs):\n",
    "        # Loop over all batches\n",
    "        n_batches = 5\n",
    "        for batch_i in range(1, n_batches + 1):\n",
    "            for batch_features, batch_labels in helper.load_preprocess_training_batch(batch_i, batch_size):\n",
    "                train_neural_network(sess, optimizer, keep_probability, batch_features, batch_labels)\n",
    "            print('Epoch {:>2}, CIFAR-10 Batch {}:  '.format(epoch + 1, batch_i), end='')\n",
    "            print_stats(sess, batch_features, batch_labels, cost, accuracy)\n",
    "            \n",
    "    # Save Model\n",
    "    saver = tf.train.Saver()\n",
    "    save_path = saver.save(sess, save_model_path)"
   ]
  },
  {
   "cell_type": "markdown",
   "metadata": {},
   "source": [
    "# Checkpoint\n",
    "The model has been saved to disk.\n",
    "## Test Model\n",
    "Test your model against the test dataset.  This will be your final accuracy. You should have an accuracy greater than 50%. If you don't, keep tweaking the model architecture and parameters."
   ]
  },
  {
   "cell_type": "code",
   "execution_count": 18,
   "metadata": {},
   "outputs": [
    {
     "name": "stdout",
     "output_type": "stream",
     "text": [
      "Testing Accuracy: 0.6790059030055999\n",
      "\n"
     ]
    },
    {
     "data": {
      "image/png": "[encoded data removed]",
      "text/plain": [
       "<matplotlib.figure.Figure at 0x2728bdf4b38>"
      ]
     },
     "metadata": {
      "image/png": {
       "height": 319,
       "width": 355
      }
     },
     "output_type": "display_data"
    }
   ],
   "source": [
    "\"\"\"\n",
    "DON'T MODIFY ANYTHING IN THIS CELL\n",
    "\"\"\"\n",
    "%matplotlib inline\n",
    "%config InlineBackend.figure_format = 'retina'\n",
    "\n",
    "import tensorflow as tf\n",
    "import pickle\n",
    "import helper\n",
    "import random\n",
    "\n",
    "# Set batch size if not already set\n",
    "try:\n",
    "    if batch_size:\n",
    "        pass\n",
    "except NameError:\n",
    "    batch_size = 64\n",
    "\n",
    "save_model_path = './image_classification'\n",
    "n_samples = 4\n",
    "top_n_predictions = 3\n",
    "\n",
    "def test_model():\n",
    "    \"\"\"\n",
    "    Test the saved model against the test dataset\n",
    "    \"\"\"\n",
    "\n",
    "    test_features, test_labels = pickle.load(open('preprocess_training.p', mode='rb'))\n",
    "    loaded_graph = tf.Graph()\n",
    "\n",
    "    with tf.Session(graph=loaded_graph) as sess:\n",
    "        # Load model\n",
    "        loader = tf.train.import_meta_graph(save_model_path + '.meta')\n",
    "        loader.restore(sess, save_model_path)\n",
    "\n",
    "        # Get Tensors from loaded model\n",
    "        loaded_x = loaded_graph.get_tensor_by_name('x:0')\n",
    "        loaded_y = loaded_graph.get_tensor_by_name('y:0')\n",
    "        loaded_keep_prob = loaded_graph.get_tensor_by_name('keep_prob:0')\n",
    "        loaded_logits = loaded_graph.get_tensor_by_name('logits:0')\n",
    "        loaded_acc = loaded_graph.get_tensor_by_name('accuracy:0')\n",
    "        \n",
    "        # Get accuracy in batches for memory limitations\n",
    "        test_batch_acc_total = 0\n",
    "        test_batch_count = 0\n",
    "        \n",
    "        for train_feature_batch, train_label_batch in helper.batch_features_labels(test_features, test_labels, batch_size):\n",
    "            test_batch_acc_total += sess.run(\n",
    "                loaded_acc,\n",
    "                feed_dict={loaded_x: train_feature_batch, loaded_y: train_label_batch, loaded_keep_prob: 1.0})\n",
    "            test_batch_count += 1\n",
    "\n",
    "        print('Testing Accuracy: {}\\n'.format(test_batch_acc_total/test_batch_count))\n",
    "\n",
    "        # Print Random Samples\n",
    "        random_test_features, random_test_labels = tuple(zip(*random.sample(list(zip(test_features, test_labels)), n_samples)))\n",
    "        random_test_predictions = sess.run(\n",
    "            tf.nn.top_k(tf.nn.softmax(loaded_logits), top_n_predictions),\n",
    "            feed_dict={loaded_x: random_test_features, loaded_y: random_test_labels, loaded_keep_prob: 1.0})\n",
    "        helper.display_image_predictions(random_test_features, random_test_labels, random_test_predictions)\n",
    "\n",
    "\n",
    "test_model()"
   ]
  },
  {
   "cell_type": "markdown",
   "metadata": {},
   "source": [
    "## Why 50-80% Accuracy?\n",
    "You might be wondering why you can't get an accuracy any higher. First things first, 50% isn't bad for a simple CNN.  Pure guessing would get you 10% accuracy. However, you might notice people are getting scores [well above 80%](http://rodrigob.github.io/are_we_there_yet/build/classification_datasets_results.html#43494641522d3130).  That's because we haven't taught you all there is to know about neural networks. We still need to cover a few more techniques.\n",
    "## Submitting This Project\n",
    "When submitting this project, make sure to run all the cells before saving the notebook.  Save the notebook file as \"dlnd_image_classification.ipynb\" and save it as a HTML file under \"File\" -> \"Download as\".  Include the \"helper.py\" and \"problem_unittests.py\" files in your submission."
   ]
  }
 ],
 "metadata": {
  "kernelspec": {
   "display_name": "Python 3",
   "language": "python",
   "name": "python3"
  },
  "language_info": {
   "codemirror_mode": {
    "name": "ipython",
    "version": 3
   },
   "file_extension": ".py",
   "mimetype": "text/x-python",
   "name": "python",
   "nbconvert_exporter": "python",
   "pygments_lexer": "ipython3",
   "version": "3.5.3"
  }
 },
 "nbformat": 4,
 "nbformat_minor": 1
}
